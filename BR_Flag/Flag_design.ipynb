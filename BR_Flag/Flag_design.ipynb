{
 "cells": [
  {
   "cell_type": "markdown",
   "id": "d415ea47",
   "metadata": {},
   "source": [
    "# Drawing Brazilian Flag\n",
    "We drew the features of the Brazilian flag on this notebook by using the **turtle** module.\n",
    "\n",
    "### Turtle module\n",
    "> **Turtle** graphics is a popular way for introducing programming to kids. It was part of the original Logo programming language developed by Wally Feurzeig, Seymour Papert and Cynthia Solomon in 1967.\n",
    "\n",
    "#### Disclaimer\n",
    "The drawing interface of the turtle package shows, initially, an arrow pointing to the right positioned in the middle of the screen which is represented by the coordinates (0,0). By applying different turtle built-in methods, we can make the arrow draw lines, circles, go forward - backward, fill in drawn features with colours, etc.  \n",
    "For more information on turtle package, please visit [Turtle documentation](https://docs.python.org/3/library/turtle.html) or [Real Python - Turtle](https://realpython.com/beginners-guide-python-turtle/).\n",
    "\n",
    "## Brazil\n",
    "Brazil, officially the **Federative Republic of Brazil**, is the largest country in South America and in Latin America. At 8.5 million square kilometers (3,300,000 sq mi) and with over 217 million people, Brazil is the world's fifth-largest country by area and the seventh most populous. Its capital is Brasília, and its most populous city is São Paulo. The federation is composed of the union of the 26 states and the Federal District. It is the only country in the Americas to have Portuguese as an official language. It is one of the most multicultural and ethnically diverse nations, due to over a century of mass immigration from around the world, and the most populous Roman Catholic-majority country.\n",
    "\n",
    "<img src=\"BRA_world.png\" alt=\"br\" width=\"300\">\n",
    "\n",
    "Bounded by the Atlantic Ocean on the east, Brazil has a coastline of 7,491 kilometers (4,655 mi). It borders all other countries and territories in South America except Ecuador and Chile and covers roughly half of the continent's land area. Its Amazon basin includes a vast tropical forest, home to diverse wildlife, a variety of ecological systems, and extensive natural resources spanning numerous protected habitats. This unique environmental heritage positions Brazil at number one of 17 megadiverse countries, and is the subject of significant global interest, as environmental degradation through processes like deforestation has direct impacts on global issues like climate change and biodiversity loss.\n",
    "\n",
    "The territory which would become known as Brazil was inhabited by numerous tribal nations prior to the landing in 1500 of explorer Pedro Álvares Cabral, who claimed the discovered land for the Portuguese Empire. Brazil remained a Portuguese colony until 1808 when the capital of the empire was transferred from Lisbon to Rio de Janeiro. In 1815, the colony was elevated to the rank of kingdom upon the formation of the United Kingdom of Portugal, Brazil and the Algarves. Independence was achieved in 1822 with the creation of the Empire of Brazil, a unitary state governed under a constitutional monarchy and a parliamentary system. The ratification of the first constitution in 1824 led to the formation of a bicameral legislature, now called the National Congress. Slavery was abolished in 1888. The country became a presidential republic in 1889 following a military coup d'état. An authoritarian military junta came to power in 1964 and ruled until 1985, after which civilian governance resumed. Brazil's current constitution, formulated in 1988, defines it as a democratic federal republic. Due to its rich culture and history, the country ranks thirteenth in the world by number of UNESCO World Heritage Sites.\n",
    "\n",
    "A major non-NATO ally of the United States, Brazil is a regional and middle power, and is also classified as an emerging power. Categorised as a developing country with a high Human Development Index, Brazil is considered an advanced emerging economy, having the twelfth largest GDP in the world by nominal, and ninth by PPP measures, the largest in Latin America. As an upper-middle income economy by the World Bank and a newly industrialized country, Brazil has the largest share of global wealth in South America and it is one of the world's major breadbaskets, being the largest producer of coffee for the last 150 years. However, the country retains noticeable corruption, crime and social inequality. Brazil is a founding member of the United Nations, the G20, BRICS, Mercosul, Organization of American States, Organization of Ibero-American States and the Community of Portuguese Language Countries.\n",
    "\n",
    "* Extracted from [BRAZIL](https://en.wikipedia.org/wiki/Brazil)\n",
    "\n",
    "## Brazilian Flag\n",
    "Brazil has had several types of flags in the past, one of them very similar to the current USA flag. The current official national Brazilian flag replaced the old constitutional monarchy flag on the 19th of November 1889 by the Decree #4, is shown on the image below.\n",
    "\n",
    "<img src=\"BR_flag.png\" alt=\"br_flag\" width=\"600\">\n",
    "\n",
    "\n",
    "The precise positions of the 27 stars on the globe make the Brazilian flag one of the most complicated national flags to construct. The official design is defined by Law No. 5,700, issued on 1 September 1971. The flag's length is twenty modules and the width, fourteen, translating into an aspect ratio of 10:7. The distance of the vertices of the yellow rhombus to the outer frame is a module and seven-tenths (1.7 m). The blue circle in the middle of the yellow rhombus has a radius of three and a half modules (3.5 m). The center of the arcs of the white band is two modules (2 m) to the left of the meeting point of the extended vertical diameter of the circle with the base of the outer frame. The radius of the lower arc of the white band is eight modules (8m) and the radius of the upper arc of the white band is eight and a half modules (8.5 m). The width of the white band is a half of a module (0.5 m).\n",
    "\n",
    "The caption \"Ordem e Progresso\" is written in green letters. The letter P lies on the vertical diameter of the circle. The letters of the word \"Ordem\" and the word \"Progresso\" are a third of a module (0.33 m) tall. The width of these letters is three-tenths of a module (0.30 m). The conjunction E has a height of three-tenths of a module (0.30 m) and a width of a quarter of a module (0.25 m).\n",
    "\n",
    "The stars are of five different sizes: first, second, third, fourth and fifth magnitudes. They are drawn within circles whose diameters are: three-tenths of a module (0.30 m) for the first magnitude, a quarter of a module (0.25 m) for the second magnitude; a fifth of a module (0.20 m) for the third magnitude, a seventh of a module (0.14 m) for the fourth magnitude, and a tenth of a module (0.10 m) for the fifth magnitude.\n",
    "\n",
    "All these features can be seen on the figure below.\n",
    "\n",
    "<img src=\"Brazil_scheme.png\" alt=\"variaveis\" width=\"1000\">\n",
    "\n",
    "* Extracted from [BRAZIL_FLAG](https://en.wikipedia.org/wiki/Flag_of_Brazil)\n",
    "\n",
    "## Setting dimensions of screen\n",
    "Fist of all, we need to set the dimensions of the screen in which we will draw the flag. We will set **width** equal to 1000 and **height** equal to 709. All the constant values are stored in the BrFlag_const.py file. "
   ]
  },
  {
   "cell_type": "code",
   "execution_count": 1,
   "id": "655a0106",
   "metadata": {},
   "outputs": [
    {
     "name": "stdout",
     "output_type": "stream",
     "text": [
      "Define length of screen with minimum of 750: 800\n"
     ]
    }
   ],
   "source": [
    "from turtle import hideturtle\n",
    "from BrFlag_const import LENGTH, HEIGHT, State_stars\n",
    "from BrFlag_func import *\n",
    "\n",
    "setup(LENGTH, HEIGHT) # Screen with width = 1000 and height = 709\n",
    "\n",
    "speed(15) # speed of arrow action"
   ]
  },
  {
   "cell_type": "markdown",
   "id": "34d0ce93",
   "metadata": {},
   "source": [
    "## Model\n",
    "For a better replica, we established proportional values between the features of the actual flag and the features we will be creating here. According to the link provided above, the original Brazilian flag has is 20 X 14 (length X width) in units of distance (M). We can see this on the following figure.\n",
    "\n",
    "> **Important Information:** The distances of the yellow diamond to the edges of the flag is 1,7 M. The centered blue circle has a 3.5M radius. The center of white stripes is positioned 2M to the left of the common point of the extension of the vertical diameter of the circle with the base of the external rectangle. The white stripe's inferior arch radius is 8 M, while the superior one is 8,5 M.\n",
    "\n",
    "There distances are all calculated in the BrFlag_const.py file and the features are designed using the functions within BrFlag_func.py file."
   ]
  },
  {
   "cell_type": "code",
   "execution_count": 2,
   "id": "d8513810",
   "metadata": {},
   "outputs": [
    {
     "data": {
      "text/plain": [
       "''"
      ]
     },
     "execution_count": 2,
     "metadata": {},
     "output_type": "execute_result"
    }
   ],
   "source": [
    "# Green Fill \n",
    "green_background()\n",
    "\n",
    "# Yellow Diamond\n",
    "yellow_diamond()\n",
    "\n",
    "# Blue Circle\n",
    "blue_circle()\n",
    "\n",
    "# Draw Grid\n",
    "# grid()\n",
    "\n",
    "# White Stripe\n",
    "white_stripe()\n",
    "\n",
    "# Positioning Stars\n",
    "for longitude, latitude, size in State_stars.values():\n",
    "    star((longitude, latitude), size)\n",
    "    \n",
    "# Writting Letters on White Stripe\n",
    "input_letters()\n",
    "\n",
    "hideturtle()\n",
    "\n",
    "screen = getscreen()\n",
    "screen.getcanvas().postscript(file=\"BR_flag.eps\")"
   ]
  },
  {
   "cell_type": "code",
   "execution_count": 3,
   "id": "a0e22bf9",
   "metadata": {},
   "outputs": [],
   "source": [
    "# 800 - 1524\n",
    "# x   - 1022\n",
    "\n",
    "# 400 - 1080\n",
    "# y   - 594 (x, y)"
   ]
  }
 ],
 "metadata": {
  "kernelspec": {
   "display_name": "Python 3 (ipykernel)",
   "language": "python",
   "name": "python3"
  },
  "language_info": {
   "codemirror_mode": {
    "name": "ipython",
    "version": 3
   },
   "file_extension": ".py",
   "mimetype": "text/x-python",
   "name": "python",
   "nbconvert_exporter": "python",
   "pygments_lexer": "ipython3",
   "version": "3.9.7"
  },
  "varInspector": {
   "cols": {
    "lenName": 16,
    "lenType": 16,
    "lenVar": 40
   },
   "kernels_config": {
    "python": {
     "delete_cmd_postfix": "",
     "delete_cmd_prefix": "del ",
     "library": "var_list.py",
     "varRefreshCmd": "print(var_dic_list())"
    },
    "r": {
     "delete_cmd_postfix": ") ",
     "delete_cmd_prefix": "rm(",
     "library": "var_list.r",
     "varRefreshCmd": "cat(var_dic_list()) "
    }
   },
   "types_to_exclude": [
    "module",
    "function",
    "builtin_function_or_method",
    "instance",
    "_Feature"
   ],
   "window_display": false
  }
 },
 "nbformat": 4,
 "nbformat_minor": 5
}
