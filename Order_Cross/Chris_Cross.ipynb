{
 "cells": [
  {
   "cell_type": "markdown",
   "id": "bd3fdad4",
   "metadata": {},
   "source": [
    "# Drawing the Order of Christ Cross\n",
    "We drew the features of the Brazilian flag on this notebook by using the **turtle** module.\n",
    "\n",
    "### Turtle module\n",
    "> **Turtle** graphics is a popular way for introducing programming to kids. It was part of the original Logo programming language developed by Wally Feurzeig, Seymour Papert and Cynthia Solomon in 1967.\n",
    "\n",
    "#### Disclaimer\n",
    "The drawing interface of the turtle package shows, initially, an arrow pointing to the right positioned in the middle of the screen which is represented by the coordinates (0,0). By applying different turtle built-in methods, we can make the arrow draw lines, circles, go forward - backward, fill in drawn features with colours, etc.  \n",
    "For more information on turtle package, please visit [Turtle documentation](https://docs.python.org/3/library/turtle.html) or [Real Python - Turtle](https://realpython.com/beginners-guide-python-turtle/).\n",
    "\n",
    "## Order of Christ Cross\n",
    "The Cross of the Order of Christ (Portuguese: Cruz da Ordem de Cristo), also known as the Cross of Christ (Cruz de Cristo) or the Portuguese Cross (Cruz Portuguesa), is a cross symbol of Portugal, originating in the Portuguese Order of Christ, founded in 1319. During the time of Prince Henry the Navigator, the cross came to be associated with the Portuguese discoveries and the Portuguese Empire. The cross can be considered a variant of the cross pattée or the cross potent.\n",
    "\n",
    "<img src=\"cruz_malta.png\" alt=\"br\" width=\"300\">"
   ]
  },
  {
   "cell_type": "code",
   "execution_count": null,
   "id": "85cd1d75",
   "metadata": {},
   "outputs": [],
   "source": [
    "from turtle import hideturtle, setup, speed\n",
    "from cross_const import LENGTH, HEIGHT\n",
    "from cross_func import *\n",
    "\n",
    "setup(LENGTH, HEIGHT) # Screen with width = 1000 and height = 709\n",
    "\n",
    "speed(5) # speed of arrow action"
   ]
  },
  {
   "cell_type": "code",
   "execution_count": null,
   "id": "2cfe1fb2",
   "metadata": {},
   "outputs": [],
   "source": [
    "red_stripes()\n",
    "triangles()\n",
    "white_stripes()\n",
    "hideturtle()"
   ]
  }
 ],
 "metadata": {
  "kernelspec": {
   "display_name": "Python 3 (ipykernel)",
   "language": "python",
   "name": "python3"
  },
  "language_info": {
   "codemirror_mode": {
    "name": "ipython",
    "version": 3
   },
   "file_extension": ".py",
   "mimetype": "text/x-python",
   "name": "python",
   "nbconvert_exporter": "python",
   "pygments_lexer": "ipython3",
   "version": "3.9.7"
  },
  "varInspector": {
   "cols": {
    "lenName": 16,
    "lenType": 16,
    "lenVar": 40
   },
   "kernels_config": {
    "python": {
     "delete_cmd_postfix": "",
     "delete_cmd_prefix": "del ",
     "library": "var_list.py",
     "varRefreshCmd": "print(var_dic_list())"
    },
    "r": {
     "delete_cmd_postfix": ") ",
     "delete_cmd_prefix": "rm(",
     "library": "var_list.r",
     "varRefreshCmd": "cat(var_dic_list()) "
    }
   },
   "types_to_exclude": [
    "module",
    "function",
    "builtin_function_or_method",
    "instance",
    "_Feature"
   ],
   "window_display": false
  }
 },
 "nbformat": 4,
 "nbformat_minor": 5
}
